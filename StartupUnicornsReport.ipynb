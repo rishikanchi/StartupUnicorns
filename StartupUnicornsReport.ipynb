{
  "cells": [
    {
      "cell_type": "markdown",
      "metadata": {
        "id": "hAsoPVKOJ5IO"
      },
      "source": [
        "**<h2>Startup Unicorns Dataframe</h2>**\n",
        "<h4>Cleaned the dataframe and ridding the NaN values</h4>\n",
        "\n",
        "<img src=\"https://github.com/rishikanchi/StartupUnicorns/blob/main/images/df.png?raw=true\" height = 400px> <br>"
      ]
    },
    {
      "cell_type": "markdown",
      "metadata": {
        "id": "d2radTCzNhep"
      },
      "source": [
        "**<h2>Top 10 and Bottom 10 Valuation Unicorns</h2>**\n",
        "<h4>Many unicorns have a valuation of $\\$1B$ but for the top, it starts at $\\$140B$ and drastically drops for each next rank</h4> <br>\n",
        "<img src=\"https://github.com/rishikanchi/StartupUnicorns/blob/main/images/top10.png?raw=true\" height = 400px>\n",
        "<img src=\"https://github.com/rishikanchi/StartupUnicorns/blob/main/images/bottom10.png?raw=true\" height = 400px> <br>\n",
        "\n",
        "- **Mean Valuation**: 3.2920829315332694B dollars\n",
        "- **Median Valuation**: 1.6B dollars\n",
        "- **Number of Unicorns with ~$\\$1B$  Valuation**: 509/1037"
      ]
    },
    {
      "cell_type": "markdown",
      "metadata": {
        "id": "M42KjfJOQn1m"
      },
      "source": [
        "**<h2>Box Plot for Valuation of Unicorns</h2>**\n",
        "<h4>The box plot has many outliers showing how most unicorns are around $\\$1B$ but there are many outliers that reach up to $\\$140B$!</h4>\n",
        "<img src=\"https://github.com/rishikanchi/StartupUnicorns/blob/main/images/valueBox.png?raw=true\" height = 400px>"
      ]
    },
    {
      "cell_type": "markdown",
      "metadata": {
        "id": "GlsULiiCRpnt"
      },
      "source": [
        "**<h2>Histogram for Valuation of Startup Unicorns</h2>**\n",
        "<h4>Again, this plot displays how the majority of Unicorns have a valuation of around $\\$1B$ and seem to decrease exponentially, leaving only a few outliers that have extraordinary valuations</h4>\n",
        "<img src=\"https://github.com/rishikanchi/StartupUnicorns/blob/main/images/valueHist.png?raw=true\" height = 400px>\n",
        "<img src=\"https://github.com/rishikanchi/StartupUnicorns/blob/main/images/valueHist1.png?raw=true\" height = 400px>"
      ]
    },
    {
      "cell_type": "markdown",
      "metadata": {
        "id": "6Y_c5aLBUYaw"
      },
      "source": [
        "**<h2>Histogram of Money Raised by Unicorns</h2>**\n",
        "<h4>The majority of unicorns raised around $\\$250M$ while some even raised no money, building their companies from personal savings</h4>\n",
        "<img src=\"https://github.com/rishikanchi/StartupUnicorns/blob/main/images/raisedHist.png?raw=true\" height = 450px>"
      ]
    },
    {
      "cell_type": "markdown",
      "metadata": {
        "id": "NOrxBJuvWNrJ"
      },
      "source": [
        "**<h2>Number of Unicorns Founded and Joined as Unicorns in 2007-2021</h2>**\n",
        "<h4>\n",
        "\n",
        "- The number of unicorns founded peaked in 2015 and has dropped since then\n",
        "\n",
        "- The number of companies becoming unicorns seems to have grown at an exponential rate; or it is possible that there was linear growth til 2021 due to COVID pandemic\n",
        "</h4>\n",
        "<img src=\"https://github.com/rishikanchi/StartupUnicorns/blob/main/images/foundedJoinedLine.png?raw=true\" height = 450px>"
      ]
    },
    {
      "cell_type": "markdown",
      "metadata": {
        "id": "-bWC-c4L3q40"
      },
      "source": [
        "**<h2>Number of Years it took for a Startup to Become a Unicorn</h2>**\n",
        "<h4>The graph shows how most companies took around 1-10 years to become a Unicorn while some even took 25 years- but what's for sure is that you need dedication to become a Unicorn</h4>\n",
        "\n",
        "- Mean: 7.032225579053374 years\n",
        "- Median: 6.0 years\n",
        "\n",
        "<img src=\"https://github.com/rishikanchi/StartupUnicorns/blob/main/images/becomeUniHistStat.png?raw=true\" height = 400px>"
      ]
    },
    {
      "cell_type": "markdown",
      "metadata": {
        "id": "WGyZCm4k5Fjw"
      },
      "source": [
        "**<h2>Distribution of Unicorns Based on Country and City</h2>**\n",
        "<h4>\n",
        "\n",
        "- United States has around 50% of all Startup Unicorns\n",
        "- San Francisco (Bay Area) has around 14% of all Unicorns\n",
        "- Chicago has around 1.5% of all Unicorns- which is larger than you think\n",
        "- Since around 50% of Unicorns come from \"Other,\" you can make a successful Unicorn from anywhere\n",
        "\n",
        "</h4>\n",
        "<img src=\"https://github.com/rishikanchi/StartupUnicorns/blob/main/images/countryCityPIe.png?raw=true\" height = 560px>"
      ]
    },
    {
      "cell_type": "markdown",
      "metadata": {
        "id": "ma1rCYni6c0M"
      },
      "source": [
        "**<h2>Industries of Startup Unicorns</h2>**\n",
        "<h4>\n",
        "\n",
        "- Fintech is the industry with the most Startup Unicorns. Fintech is a portmanteau for “financial technology.” It’s a catch-all term for technology used to augment, streamline, digitize or disrupt traditional financial services. (forbes.com)\n",
        "- Internet software and services is a very broad term that includes all websites and apps that you use\n",
        "-E-commerce: AMAZON\n",
        "-AI is already at 7.2%, it is reasonable to believe that will grow rapidly in the near future\n",
        "- 8/14 groups in the pie chart have a direct correlation with technology while almost all the others have an indirect correlation to some form of technology\n",
        "\n",
        "</h4>\n",
        "<img src=\"https://github.com/rishikanchi/StartupUnicorns/blob/main/images/industryPie.png?raw=true\" height = 500px>"
      ]
    },
    {
      "cell_type": "markdown",
      "metadata": {
        "id": "nQxcdVeh87T0"
      },
      "source": [
        "**<h2>Financial Status of Unicorns</h2>**\n",
        "<h4>\n",
        "\n",
        "- 988/1037 of the Unicorns don't have any of these financial statuses and haven't been included in the histogram\n",
        "- 20+ unicorns have been aquired\n",
        "- A divesiture occurs when a company sells an asset, such as a service, piece of property, piece of property, or product line\n",
        "</h4>\n",
        "<img src=\"https://github.com/rishikanchi/StartupUnicorns/blob/main/images/financeHist.png?raw=true\" height = 500px>\n"
      ]
    },
    {
      "cell_type": "markdown",
      "metadata": {
        "id": "x4msVJHa-j4C"
      },
      "source": [
        "**<h2>Number of Investors for Unicorns</h2>**\n",
        "<h4>\n",
        "\n",
        "- Mean: 14.418514946962391 investors\n",
        "- Median: 13.0 investors\n",
        "- Most Unicorns had around 15 investors, some even having 0 building a company without raising money\n",
        "- You have to talk to many venture capitalists to get enough funding for a Unicorn\n",
        "\n",
        "</h4>\n",
        "<img src=\"https://github.com/rishikanchi/StartupUnicorns/blob/main/images/investorsHist.png?raw=true\" height = 500px>\n"
      ]
    },
    {
      "cell_type": "markdown",
      "metadata": {
        "id": "hPDlSrntANAl"
      },
      "source": [
        "**<h2>Social Media Presence in Unicorns</h2>**\n",
        "<h4>\n",
        "\n",
        "- You NEED to be on social media to have a successful startup\n",
        "- Might lead to more job openings to manage social media (marketing) for companies\n",
        "\n",
        "</h4>\n",
        "<img src=\"https://github.com/rishikanchi/StartupUnicorns/blob/main/images/socialMediaPie.png?raw=true\" height = 400px>"
      ]
    },
    {
      "cell_type": "markdown",
      "metadata": {
        "id": "bTEDje1KAzOI"
      },
      "source": [
        "**<h1>Compare Probabilities with Simulations</h1>**\n",
        "\n",
        "<h5>1) What is the probability that if you founded 5 startup unicorns, at least one of them will cross $10B in valuation?</h5>\n",
        "\n",
        "<h5>2) What is the probability that if you founded 5 startup unicorns IN SAN FRANCISCO, at least one of them will cross $10B in valuation?</h5>\n",
        "\n",
        "**<h5>METHOD:** I used a simulation that picked 5 random startups from anywhere and San Francisco and ran this 10000 times</h5>"
      ]
    },
    {
      "cell_type": "markdown",
      "metadata": {
        "id": "ocjAs7ZwCMAZ"
      },
      "source": [
        "**<h3>DataFrame with Simulation Results</h3>**\n",
        "<h4>\n",
        "\n",
        "</h4>\n",
        "<img src=\"https://github.com/rishikanchi/StartupUnicorns/blob/main/images/simDF.png?raw=true\" height = 400px>"
      ]
    },
    {
      "cell_type": "markdown",
      "metadata": {
        "id": "B0Vk_EhwCwLX"
      },
      "source": [
        "**<h2>Histogram of Simulation Results</h2>**\n",
        "<h4>\n",
        "\n",
        "<h5>Probability of at Least 1 Unicorn Anywhere >= 10 billion dollars is 21.51% </h5>\n",
        "<h5>Probability of at Least 1 Unicorn IN SAN FRANSISCO >= 10 billion dollars is 51.18% </h5>\n",
        "\n",
        "Proability of finding one Unicorn above $\\$10B$ is more than twice as high in San Fransisco compared to anywhere in the world\n",
        "\n",
        "</h4>\n",
        "<img src=\"https://github.com/rishikanchi/StartupUnicorns/blob/main/images/simBar.png?raw=true\" height = 500px>"
      ]
    },
    {
      "cell_type": "markdown",
      "metadata": {
        "id": "pPkFC9gmF8y_"
      },
      "source": [
        "**<h1>Find 95% Confidence Interval for Valuation of Unicorns</h1>**\n",
        "\n",
        "<h5>\n",
        "\n",
        "- Used an alpha value of 0.05 to get 95% confidence interval\n",
        "- **Confidence Interval:** [ $\\$2.8471822555529096B$, $\\$3.736983607513629B$ ]\n",
        "- According to Forbes.com, the average valuation of Startup Unicorns is $\\$3.3B$ and this is believable based on the confidence interval\n",
        "\n",
        "</h5>"
      ]
    },
    {
      "cell_type": "markdown",
      "metadata": {
        "id": "PO0ScuDMLv3f"
      },
      "source": [
        "**<h1>Find the probability that the average valuation of unicorns is greater than the oberseved value.</h1>**\n",
        "<h5>\n",
        "\n",
        "- This probability can be calculated using the **Central Limit Theorem**\n",
        "- I calculated this probability using the forbes.com average valuation of $\\$3.3B$ as the population average valuation\n",
        "- The probability was **51.39%**\n",
        "- This means that the observed average valuation from 2007-2021 Unicorns is very similar to the average of unicorns in all time\n",
        "</h5>"
      ]
    },
    {
      "cell_type": "markdown",
      "metadata": {
        "id": "B-7rFAPncwXE"
      },
      "source": [
        "#**Hypothesis Testing (One-sample One-sided asymptotic Z-Test)**\n",
        "<h4>Null Hypothesis: Unicorns' valuation is 4 times as much as the money they raised\n",
        "\n",
        "<h4>Alternative Hypothesis: Unicorns' valuation is MORE than 4 times as much as the money they raised</h4>\n",
        "\n",
        "- Comparison is the Valuation - 4*Total Raised in $M\n",
        "\n",
        "<img src=\"https://github.com/rishikanchi/StartupUnicorns/blob/main/images/hypDB.png?raw=true\" height = 350px>"
      ]
    },
    {
      "cell_type": "markdown",
      "metadata": {
        "id": "j60o6wT4dXxg"
      },
      "source": [
        "**<h2>Graphing and Results of Hypothesis Test</h2>**\n",
        "<h4>\n",
        "\n",
        "- Looks like a normal distribution with mean 0 so null hypothesis seems right\n",
        "- The **P-Value** of the hypothesis test was **1.104399920499589e-08** which is much lower than **0.05** meaning that the null hypothesis can be rejected\n",
        "- This displays how the graph is misleadign due to the high range of the graph, this might be misleading\n",
        "\n",
        "</h4>\n",
        "<img src=\"https://github.com/rishikanchi/StartupUnicorns/blob/main/images/hypHist.png?raw=true\" height = 400px>"
      ]
    },
    {
      "cell_type": "markdown",
      "metadata": {
        "id": "k1Q3qxcrNTJ_"
      },
      "source": [
        "**<h1>Making a Linear Regression Model to Predict Valauation of Unicorns</h1>**\n",
        "<h5>\n",
        "\n",
        "- To do this, I used all the nummerical columns as well as coverting the Social Media Presence column to 0s (no social media) or 1s (social media is used)\n",
        "- Numerical Columns: Year Joined, Founded Year, Total Raised ($M), Investor Count,\tDeal Terms,\tPortfolio Exits, Social Media As 0/1\n",
        "- The data was split randomly into an 80% train and 20% test groups\n",
        "\n",
        "</h5>"
      ]
    },
    {
      "cell_type": "markdown",
      "metadata": {
        "id": "wkBxmx5_O93H"
      },
      "source": [
        "**<h2>Correlation Coefficient in DF</h2>**\n",
        "<h4>\n",
        "\n",
        "- Almost everything is fairly uncorrelated but when used together to predict Valuation might be accurate\n",
        "- The most correlated to Valuation is **Total Money Raised** with 0.614747, still not too strong a correlation\n",
        "</h4>\n",
        "\n",
        "\n",
        "<img src=\"https://github.com/rishikanchi/StartupUnicorns/blob/main/images/lrCorr.png?raw=true\" height = 250px>"
      ]
    },
    {
      "cell_type": "markdown",
      "metadata": {
        "id": "g7ywRqg4P6mQ"
      },
      "source": [
        "**<h2>Scatterplot of Total Money Raised/Investor Count v. Valuation</h2>**\n",
        "<h4>\n",
        "\n",
        "- Even comparing the Valuation with the most correlated column, Total Money Raised, there still is no clear line that fits the points on the scatterplot\n",
        "- Similarly, there is no clear line of fit for the Investor Count as well\n",
        "- There is still hope for the linear regression, however, since it incorporates all the numerical variables.\n",
        "\n",
        "</h4>\n",
        "\n",
        "\n",
        "<img src=\"https://github.com/rishikanchi/StartupUnicorns/blob/main/images/valueRaisedScatter.png?raw=true\" height = 375px>\n",
        "<img src=\"https://github.com/rishikanchi/StartupUnicorns/blob/main/images/valueInvestorScatter.png?raw=true\" height = 375px>"
      ]
    },
    {
      "cell_type": "markdown",
      "metadata": {
        "id": "GZVF62z8RYlX"
      },
      "source": [
        "**<h2>DataFrame of Test Group and Results</h2>**\n",
        "<h4>\n",
        "\n",
        "- Just based on seeing the following rows, there seems to be tremendous variation between the actual valuation and that predicted by the model\n",
        "- The **Mean Squared Error** was $\\$47.82392903174712B$ which is huge considering most valuations of the Unicorns were around $\\$1B$\n",
        "- The **R^2** score is 0.49471342063830326, again proving that the linear regression model was unable to make a line of best fit with the given variables to make accurate and correlated predictions.\n",
        "- This shows how there is no one thing needed for a company to become a unicorns; there is no one formula to become a startup unicorn\n",
        "\n",
        "</h4>\n",
        "\n",
        "\n",
        "<img src=\"https://github.com/rishikanchi/StartupUnicorns/blob/main/images/lrDF.png?raw=true\" height = 350px>"
      ]
    }
  ],
  "metadata": {
    "colab": {
      "provenance": []
    },
    "kernelspec": {
      "display_name": "Python 3",
      "name": "python3"
    },
    "language_info": {
      "name": "python"
    }
  },
  "nbformat": 4,
  "nbformat_minor": 0
}
